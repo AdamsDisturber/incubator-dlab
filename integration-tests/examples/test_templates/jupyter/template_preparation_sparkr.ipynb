{
 "cells": [
  {
   "cell_type": "code",
   "execution_count": 1,
   "metadata": {
    "collapsed": false
   },
   "outputs": [],
   "source": [
    "sparkR.session()\n",
    "\n",
    "working_bucket <- \"S3_BUCKET\"\n",
    "output_directory <- \"processed_jupyter_sparkr\"\n",
    "\n",
    "bucket_path <- function(file_path) {\n",
    "    sprintf(\"s3a://%s/%s\", working_bucket, file_path)\n",
    "}\n",
    "\n",
    "full_path <- function(file_path) {\n",
    "    sprintf(\"s3a://%s/%s/%s\", working_bucket, output_directory, file_path)\n",
    "}"
   ]
  },
  {
   "cell_type": "code",
   "execution_count": null,
   "metadata": {
    "collapsed": false
   },
   "outputs": [],
   "source": [
    "sparkR.session()\n",
    "\n",
    "working_bucket <- \"S3_BUCKET\"\n",
    "output_directory <- \"R_processed\"\n",
    "\n",
    "bucket_path <- function(file_path) {\n",
    "    sprintf(\"s3a://%s/%s\", working_bucket, file_path)\n",
    "}\n",
    "\n",
    "full_path <- function(file_path) {\n",
    "    sprintf(\"s3a://%s/%s/%s\", working_bucket, output_directory, file_path)\n",
    "}"
   ]
  },
  {
   "cell_type": "markdown",
   "metadata": {},
   "source": [
    "## Parse and convert Carrier data to parquet"
   ]
  },
  {
   "cell_type": "code",
   "execution_count": 2,
   "metadata": {
    "collapsed": false
   },
   "outputs": [
    {
     "data": {
      "text/html": [
       "<table>\n",
       "<thead><tr><th scope=col>Code</th><th scope=col>Description</th></tr></thead>\n",
       "<tbody>\n",
       "\t<tr><td>02Q                                         </td><td>Titan Airways                               </td></tr>\n",
       "\t<tr><td>04Q                                         </td><td>Tradewind Aviation                          </td></tr>\n",
       "\t<tr><td>05Q                                         </td><td>Comlux Aviation, AG                         </td></tr>\n",
       "\t<tr><td>06Q                                         </td><td>Master Top Linhas Aereas Ltd.               </td></tr>\n",
       "\t<tr><td>07Q                                         </td><td>Flair Airlines Ltd.                         </td></tr>\n",
       "\t<tr><td>09Q                                         </td><td>Swift Air, LLC                              </td></tr>\n",
       "\t<tr><td>0BQ                                         </td><td>DCA                                         </td></tr>\n",
       "\t<tr><td>0CQ                                         </td><td>ACM AIR CHARTER GmbH                        </td></tr>\n",
       "\t<tr><td>0FQ                                         </td><td>Maine Aviation Aircraft Charter, LLC        </td></tr>\n",
       "\t<tr><td>0GQ                                         </td><td>Inter Island Airways, d/b/a Inter Island Air</td></tr>\n",
       "\t<tr><td>0HQ                                         </td><td>Polar Airlines de Mexico d/b/a Nova Air     </td></tr>\n",
       "\t<tr><td>0J                                          </td><td>JetClub AG                                  </td></tr>\n",
       "\t<tr><td>0JQ                                         </td><td>Vision Airlines                             </td></tr>\n",
       "\t<tr><td>0KQ                                         </td><td>Mokulele Flight Services, Inc.              </td></tr>\n",
       "\t<tr><td>0LQ                                         </td><td>Metropix UK, LLP.                           </td></tr>\n",
       "\t<tr><td>0MQ                                         </td><td>Multi-Aero, Inc. d/b/a Air Choice One       </td></tr>\n",
       "\t<tr><td>0Q                                          </td><td>Flying Service N.V.                         </td></tr>\n",
       "\t<tr><td>16                                          </td><td>PSA Airlines Inc.                           </td></tr>\n",
       "\t<tr><td>17                                          </td><td>Piedmont Airlines                           </td></tr>\n",
       "\t<tr><td>1I                                          </td><td>Sky Trek Int'l Airlines                     </td></tr>\n",
       "</tbody>\n",
       "</table>\n"
      ],
      "text/plain": [
       "   Code Description                                 \n",
       "1  02Q  Titan Airways                               \n",
       "2  04Q  Tradewind Aviation                          \n",
       "3  05Q  Comlux Aviation, AG                         \n",
       "4  06Q  Master Top Linhas Aereas Ltd.               \n",
       "5  07Q  Flair Airlines Ltd.                         \n",
       "6  09Q  Swift Air, LLC                              \n",
       "7  0BQ  DCA                                         \n",
       "8  0CQ  ACM AIR CHARTER GmbH                        \n",
       "9  0FQ  Maine Aviation Aircraft Charter, LLC        \n",
       "10 0GQ  Inter Island Airways, d/b/a Inter Island Air\n",
       "11 0HQ  Polar Airlines de Mexico d/b/a Nova Air     \n",
       "12 0J   JetClub AG                                  \n",
       "13 0JQ  Vision Airlines                             \n",
       "14 0KQ  Mokulele Flight Services, Inc.              \n",
       "15 0LQ  Metropix UK, LLP.                           \n",
       "16 0MQ  Multi-Aero, Inc. d/b/a Air Choice One       \n",
       "17 0Q   Flying Service N.V.                         \n",
       "18 16   PSA Airlines Inc.                           \n",
       "19 17   Piedmont Airlines                           \n",
       "20 1I   Sky Trek Int'l Airlines                     "
      ]
     },
     "metadata": {},
     "output_type": "execute_result"
    }
   ],
   "source": [
    "carriers <- read.df(bucket_path(\"carriers.csv\"), \"csv\", header=\"true\", inferSchema=\"true\")\n",
    "write.df(carriers, path=full_path(\"carriers\"), source=\"parquet\", mode=\"overwrite\")\n",
    "createOrReplaceTempView(carriers, \"carriers\")\n",
    "head(carriers, 20)"
   ]
  },
  {
   "cell_type": "markdown",
   "metadata": {},
   "source": [
    "## Parse and convert to parquet Airport data"
   ]
  },
  {
   "cell_type": "code",
   "execution_count": 3,
   "metadata": {
    "collapsed": false
   },
   "outputs": [
    {
     "data": {
      "text/html": [
       "<table>\n",
       "<thead><tr><th scope=col>iata</th><th scope=col>airport</th><th scope=col>city</th><th scope=col>state</th><th scope=col>country</th><th scope=col>lat</th><th scope=col>long</th></tr></thead>\n",
       "<tbody>\n",
       "\t<tr><td>00M                     </td><td>Thigpen                 </td><td>Bay Springs             </td><td>MS                      </td><td>USA                     </td><td>31.95376                </td><td> -89.23450              </td></tr>\n",
       "\t<tr><td>00R                     </td><td>Livingston Municipal    </td><td>Livingston              </td><td>TX                      </td><td>USA                     </td><td>30.68586                </td><td> -95.01793              </td></tr>\n",
       "\t<tr><td>00V                     </td><td>Meadow Lake             </td><td>Colorado Springs        </td><td>CO                      </td><td>USA                     </td><td>38.94575                </td><td>-104.56989              </td></tr>\n",
       "\t<tr><td>01G                     </td><td>Perry-Warsaw            </td><td>Perry                   </td><td>NY                      </td><td>USA                     </td><td>42.74135                </td><td> -78.05208              </td></tr>\n",
       "\t<tr><td>01J                     </td><td>Hilliard Airpark        </td><td>Hilliard                </td><td>FL                      </td><td>USA                     </td><td>30.68801                </td><td> -81.90594              </td></tr>\n",
       "\t<tr><td>01M                     </td><td>Tishomingo County       </td><td>Belmont                 </td><td>MS                      </td><td>USA                     </td><td>34.49167                </td><td> -88.20111              </td></tr>\n",
       "\t<tr><td>02A                     </td><td>Gragg-Wade              </td><td>Clanton                 </td><td>AL                      </td><td>USA                     </td><td>32.85049                </td><td> -86.61145              </td></tr>\n",
       "\t<tr><td>02C                     </td><td>Capitol                 </td><td>Brookfield              </td><td>WI                      </td><td>USA                     </td><td>43.08751                </td><td> -88.17787              </td></tr>\n",
       "\t<tr><td>02G                     </td><td>Columbiana County       </td><td>East Liverpool          </td><td>OH                      </td><td>USA                     </td><td>40.67331                </td><td> -80.64141              </td></tr>\n",
       "\t<tr><td>03D                     </td><td>Memphis Memorial        </td><td>Memphis                 </td><td>MO                      </td><td>USA                     </td><td>40.44726                </td><td> -92.22696              </td></tr>\n",
       "\t<tr><td>04M                     </td><td>Calhoun County          </td><td>Pittsboro               </td><td>MS                      </td><td>USA                     </td><td>33.93011                </td><td> -89.34285              </td></tr>\n",
       "\t<tr><td>04Y                     </td><td>Hawley Municipal        </td><td>Hawley                  </td><td>MN                      </td><td>USA                     </td><td>46.88385                </td><td> -96.35090              </td></tr>\n",
       "\t<tr><td>05C                     </td><td>Griffith-Merrillville   </td><td>Griffith                </td><td>IN                      </td><td>USA                     </td><td>41.51962                </td><td> -87.40109              </td></tr>\n",
       "\t<tr><td>05F                     </td><td>Gatesville - City/County</td><td>Gatesville              </td><td>TX                      </td><td>USA                     </td><td>31.42128                </td><td> -97.79697              </td></tr>\n",
       "\t<tr><td>05U                     </td><td>Eureka                  </td><td>Eureka                  </td><td>NV                      </td><td>USA                     </td><td>39.60417                </td><td>-116.00506              </td></tr>\n",
       "\t<tr><td>06A                     </td><td>Moton  Municipal        </td><td>Tuskegee                </td><td>AL                      </td><td>USA                     </td><td>32.46047                </td><td> -85.68004              </td></tr>\n",
       "\t<tr><td>06C                     </td><td>Schaumburg              </td><td>Chicago/Schaumburg      </td><td>IL                      </td><td>USA                     </td><td>41.98934                </td><td> -88.10124              </td></tr>\n",
       "\t<tr><td>06D                     </td><td>Rolla Municipal         </td><td>Rolla                   </td><td>ND                      </td><td>USA                     </td><td>48.88434                </td><td> -99.62088              </td></tr>\n",
       "\t<tr><td>06M                     </td><td>Eupora Municipal        </td><td>Eupora                  </td><td>MS                      </td><td>USA                     </td><td>33.53457                </td><td> -89.31257              </td></tr>\n",
       "\t<tr><td>06N                     </td><td>Randall                 </td><td>Middletown              </td><td>NY                      </td><td>USA                     </td><td>41.43157                </td><td> -74.39192              </td></tr>\n",
       "</tbody>\n",
       "</table>\n"
      ],
      "text/plain": [
       "   iata airport                  city               state country lat     \n",
       "1  00M  Thigpen                  Bay Springs        MS    USA     31.95376\n",
       "2  00R  Livingston Municipal     Livingston         TX    USA     30.68586\n",
       "3  00V  Meadow Lake              Colorado Springs   CO    USA     38.94575\n",
       "4  01G  Perry-Warsaw             Perry              NY    USA     42.74135\n",
       "5  01J  Hilliard Airpark         Hilliard           FL    USA     30.68801\n",
       "6  01M  Tishomingo County        Belmont            MS    USA     34.49167\n",
       "7  02A  Gragg-Wade               Clanton            AL    USA     32.85049\n",
       "8  02C  Capitol                  Brookfield         WI    USA     43.08751\n",
       "9  02G  Columbiana County        East Liverpool     OH    USA     40.67331\n",
       "10 03D  Memphis Memorial         Memphis            MO    USA     40.44726\n",
       "11 04M  Calhoun County           Pittsboro          MS    USA     33.93011\n",
       "12 04Y  Hawley Municipal         Hawley             MN    USA     46.88385\n",
       "13 05C  Griffith-Merrillville    Griffith           IN    USA     41.51962\n",
       "14 05F  Gatesville - City/County Gatesville         TX    USA     31.42128\n",
       "15 05U  Eureka                   Eureka             NV    USA     39.60417\n",
       "16 06A  Moton  Municipal         Tuskegee           AL    USA     32.46047\n",
       "17 06C  Schaumburg               Chicago/Schaumburg IL    USA     41.98934\n",
       "18 06D  Rolla Municipal          Rolla              ND    USA     48.88434\n",
       "19 06M  Eupora Municipal         Eupora             MS    USA     33.53457\n",
       "20 06N  Randall                  Middletown         NY    USA     41.43157\n",
       "   long      \n",
       "1   -89.23450\n",
       "2   -95.01793\n",
       "3  -104.56989\n",
       "4   -78.05208\n",
       "5   -81.90594\n",
       "6   -88.20111\n",
       "7   -86.61145\n",
       "8   -88.17787\n",
       "9   -80.64141\n",
       "10  -92.22696\n",
       "11  -89.34285\n",
       "12  -96.35090\n",
       "13  -87.40109\n",
       "14  -97.79697\n",
       "15 -116.00506\n",
       "16  -85.68004\n",
       "17  -88.10124\n",
       "18  -99.62088\n",
       "19  -89.31257\n",
       "20  -74.39192"
      ]
     },
     "metadata": {},
     "output_type": "execute_result"
    }
   ],
   "source": [
    "airports <- read.df(bucket_path(\"airports.csv\"), \"csv\", header=\"true\", inferSchema=\"true\")\n",
    "write.df(airports, path=full_path(\"airports\"), source=\"parquet\", mode=\"overwrite\")\n",
    "createOrReplaceTempView(airports, \"airports\")\n",
    "head(airports, 20)"
   ]
  },
  {
   "cell_type": "markdown",
   "metadata": {},
   "source": [
    "## Parse and convert Flights data to parquet"
   ]
  },
  {
   "cell_type": "code",
   "execution_count": 4,
   "metadata": {
    "collapsed": false
   },
   "outputs": [
    {
     "data": {
      "text/html": [
       "<ol class=list-inline>\n",
       "\t<li>'Year'</li>\n",
       "\t<li>'Month'</li>\n",
       "\t<li>'DayofMonth'</li>\n",
       "\t<li>'DayOfWeek'</li>\n",
       "\t<li>'DepTime'</li>\n",
       "\t<li>'CRSDepTime'</li>\n",
       "\t<li>'ArrTime'</li>\n",
       "\t<li>'CRSArrTime'</li>\n",
       "\t<li>'UniqueCarrier'</li>\n",
       "\t<li>'FlightNum'</li>\n",
       "\t<li>'TailNum'</li>\n",
       "\t<li>'ActualElapsedTime'</li>\n",
       "\t<li>'CRSElapsedTime'</li>\n",
       "\t<li>'AirTime'</li>\n",
       "\t<li>'ArrDelay'</li>\n",
       "\t<li>'DepDelay'</li>\n",
       "\t<li>'Origin'</li>\n",
       "\t<li>'Dest'</li>\n",
       "\t<li>'Distance'</li>\n",
       "\t<li>'TaxiIn'</li>\n",
       "\t<li>'TaxiOut'</li>\n",
       "\t<li>'Cancelled'</li>\n",
       "\t<li>'CancellationCode'</li>\n",
       "\t<li>'Diverted'</li>\n",
       "\t<li>'CarrierDelay'</li>\n",
       "\t<li>'WeatherDelay'</li>\n",
       "\t<li>'NASDelay'</li>\n",
       "\t<li>'SecurityDelay'</li>\n",
       "\t<li>'LateAircraftDelay'</li>\n",
       "</ol>\n"
      ],
      "text/plain": [
       " [1] \"Year\"              \"Month\"             \"DayofMonth\"       \n",
       " [4] \"DayOfWeek\"         \"DepTime\"           \"CRSDepTime\"       \n",
       " [7] \"ArrTime\"           \"CRSArrTime\"        \"UniqueCarrier\"    \n",
       "[10] \"FlightNum\"         \"TailNum\"           \"ActualElapsedTime\"\n",
       "[13] \"CRSElapsedTime\"    \"AirTime\"           \"ArrDelay\"         \n",
       "[16] \"DepDelay\"          \"Origin\"            \"Dest\"             \n",
       "[19] \"Distance\"          \"TaxiIn\"            \"TaxiOut\"          \n",
       "[22] \"Cancelled\"         \"CancellationCode\"  \"Diverted\"         \n",
       "[25] \"CarrierDelay\"      \"WeatherDelay\"      \"NASDelay\"         \n",
       "[28] \"SecurityDelay\"     \"LateAircraftDelay\""
      ]
     },
     "metadata": {},
     "output_type": "execute_result"
    },
    {
     "data": {
      "text/html": [
       "<table>\n",
       "<thead><tr><th scope=col>ArrDelay</th><th scope=col>CarrierDelay</th><th scope=col>WeatherDelay</th><th scope=col>Distance</th></tr></thead>\n",
       "<tbody>\n",
       "\t<tr><td>-14</td><td>NA </td><td>NA </td><td>810</td></tr>\n",
       "\t<tr><td>  2</td><td>NA </td><td>NA </td><td>810</td></tr>\n",
       "\t<tr><td> 14</td><td>NA </td><td>NA </td><td>515</td></tr>\n",
       "\t<tr><td> -6</td><td>NA </td><td>NA </td><td>515</td></tr>\n",
       "\t<tr><td> 34</td><td> 2 </td><td> 0 </td><td>515</td></tr>\n",
       "</tbody>\n",
       "</table>\n"
      ],
      "text/plain": [
       "  ArrDelay CarrierDelay WeatherDelay Distance\n",
       "1 -14      NA           NA           810     \n",
       "2   2      NA           NA           810     \n",
       "3  14      NA           NA           515     \n",
       "4  -6      NA           NA           515     \n",
       "5  34       2            0           515     "
      ]
     },
     "metadata": {},
     "output_type": "execute_result"
    },
    {
     "data": {
      "text/html": [
       "<table>\n",
       "<thead><tr><th scope=col>ArrDelay</th><th scope=col>CarrierDelay</th><th scope=col>WeatherDelay</th><th scope=col>Distance</th></tr></thead>\n",
       "<tbody>\n",
       "\t<tr><td>-14</td><td>0  </td><td>0  </td><td>810</td></tr>\n",
       "\t<tr><td>  2</td><td>0  </td><td>0  </td><td>810</td></tr>\n",
       "\t<tr><td> 14</td><td>0  </td><td>0  </td><td>515</td></tr>\n",
       "\t<tr><td> -6</td><td>0  </td><td>0  </td><td>515</td></tr>\n",
       "\t<tr><td> 34</td><td>2  </td><td>0  </td><td>515</td></tr>\n",
       "</tbody>\n",
       "</table>\n"
      ],
      "text/plain": [
       "  ArrDelay CarrierDelay WeatherDelay Distance\n",
       "1 -14      0            0            810     \n",
       "2   2      0            0            810     \n",
       "3  14      0            0            515     \n",
       "4  -6      0            0            515     \n",
       "5  34      2            0            515     "
      ]
     },
     "metadata": {},
     "output_type": "execute_result"
    }
   ],
   "source": [
    "flights_w_na <- read.df(bucket_path(\"2008.csv.bz2\"), \"csv\", header=\"true\", inferSchema=\"true\")\n",
    "flights <- fillna(flights_w_na, 0, cols=colnames(flights_w_na)[c(15, 16, 25:29)])\n",
    "write.df(flights, path=full_path(\"flights\"), source=\"parquet\", mode=\"overwrite\")\n",
    "createOrReplaceTempView(flights, \"flights\")\n",
    "colnames(flights)\n",
    "head(flights_w_na, 5)[c(\"ArrDelay\",\"CarrierDelay\",\"WeatherDelay\",\"Distance\")]\n",
    "head(flights, 5)[c(\"ArrDelay\",\"CarrierDelay\",\"WeatherDelay\",\"Distance\")]"
   ]
  },
  {
   "cell_type": "code",
   "execution_count": null,
   "metadata": {
    "collapsed": true
   },
   "outputs": [],
   "source": [
    ""
   ]
  }
 ],
 "metadata": {
  "kernelspec": {
   "display_name": "SparkR (R-3.2.3, Spark-2.0.2) on [dlab6th-dmytro_liaskovskyi-emr-j1-e2-0cd40]",
   "language": "R",
   "name": "KERNEL_NAME"
  },
  "language_info": {
   "codemirror_mode": "r",
   "file_extension": ".r",
   "mimetype": "text/x-r-source",
   "name": "R",
   "pygments_lexer": "r",
   "version": "3.2.3"
  }
 },
 "nbformat": 4,
 "nbformat_minor": 0
}